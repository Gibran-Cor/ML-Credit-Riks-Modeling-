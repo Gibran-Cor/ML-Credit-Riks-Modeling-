{
 "cells": [
  {
   "cell_type": "markdown",
   "id": "fa15e41a",
   "metadata": {},
   "source": [
    "## IMPORT LIBRARIES"
   ]
  },
  {
   "cell_type": "code",
   "execution_count": 7,
   "id": "0e6c021f",
   "metadata": {},
   "outputs": [],
   "source": [
    "import pandas as pd\n",
    "import numpy as np\n",
    "import matplotlib.pyplot as plt\n",
    "import random"
   ]
  },
  {
   "cell_type": "markdown",
   "id": "ecf0cec6",
   "metadata": {},
   "source": [
    "## IMPORT TRAIN.CSV"
   ]
  },
  {
   "cell_type": "code",
   "execution_count": null,
   "id": "ed581716",
   "metadata": {},
   "outputs": [],
   "source": [
    "l_dataset = pd.read_csv(r\"D:\\Masters\\spring 23\\Applied Machine Learning\\PROJECT 1\\train_data.csv\\train_data.csv\")"
   ]
  },
  {
   "cell_type": "code",
   "execution_count": null,
   "id": "27cf571f",
   "metadata": {},
   "outputs": [],
   "source": [
    "l_dataset.shape"
   ]
  },
  {
   "cell_type": "code",
   "execution_count": null,
   "id": "50920762",
   "metadata": {},
   "outputs": [],
   "source": [
    "l_dataset.head()"
   ]
  },
  {
   "cell_type": "markdown",
   "id": "b1151770",
   "metadata": {},
   "source": [
    "## converting S_2 into the needed format"
   ]
  },
  {
   "cell_type": "code",
   "execution_count": null,
   "id": "b7ca4639",
   "metadata": {},
   "outputs": [],
   "source": [
    "l_dataset['S_2'] = [''.join(x.split('-')[0:2]) for x in l_dataset.S_2]\n",
    "l_dataset['S_2'] = l_dataset['S_2'].astype(float)"
   ]
  },
  {
   "cell_type": "markdown",
   "id": "14343835",
   "metadata": {},
   "source": [
    "## CREATING WEIGHTS FOR SAMPLING"
   ]
  },
  {
   "cell_type": "code",
   "execution_count": null,
   "id": "9e6c90f2",
   "metadata": {},
   "outputs": [],
   "source": [
    "l_dataset[\"count\"] = l_dataset.groupby([\"S_2\"])['customer_ID'].transform('count')\n",
    "l_dataset[\"frac\"] = (1/l_dataset[\"count\"] )**3\n",
    "l_dataset[\"frac\"] = l_dataset[\"frac\"]/l_dataset[\"frac\"].unique().sum()"
   ]
  },
  {
   "cell_type": "markdown",
   "id": "b54a50f8",
   "metadata": {},
   "source": [
    "## GROUPING AND SAMPLING"
   ]
  },
  {
   "cell_type": "code",
   "execution_count": null,
   "id": "c3d20f57",
   "metadata": {},
   "outputs": [],
   "source": [
    "temp_data = l_dataset.groupby([\"customer_ID\"])"
   ]
  },
  {
   "cell_type": "code",
   "execution_count": null,
   "id": "361667f8",
   "metadata": {},
   "outputs": [],
   "source": [
    "temp_data2 = temp_data.sample(n = 1, weights = \"frac\", random_state = 7)"
   ]
  },
  {
   "cell_type": "code",
   "execution_count": null,
   "id": "fe740be0",
   "metadata": {},
   "outputs": [],
   "source": [
    "temp_data2.head(5)"
   ]
  },
  {
   "cell_type": "markdown",
   "id": "aad1df9d",
   "metadata": {},
   "source": [
    "FIND NUMBER OF UNIQUE CUSTOMER ID'S"
   ]
  },
  {
   "cell_type": "code",
   "execution_count": null,
   "id": "ec373c0b",
   "metadata": {},
   "outputs": [],
   "source": [
    "customers = temp_data2['customer_ID'].unique()"
   ]
  },
  {
   "cell_type": "code",
   "execution_count": null,
   "id": "0c39843b",
   "metadata": {},
   "outputs": [],
   "source": [
    "customers.shape"
   ]
  },
  {
   "cell_type": "code",
   "execution_count": null,
   "id": "424b9a2c",
   "metadata": {
    "scrolled": true
   },
   "outputs": [],
   "source": [
    "temp_data2.groupby('S_2').size()"
   ]
  },
  {
   "cell_type": "markdown",
   "id": "369884b0",
   "metadata": {},
   "source": [
    "## READ TRAIN_LABELS"
   ]
  },
  {
   "cell_type": "code",
   "execution_count": null,
   "id": "bc1ed00a",
   "metadata": {},
   "outputs": [],
   "source": [
    "r_dataset = pd.read_csv(r\"D:\\Masters\\spring 23\\Applied Machine Learning\\PROJECT 1\\train_labels.csv\\train_labels.csv\")"
   ]
  },
  {
   "cell_type": "markdown",
   "id": "83b851f1",
   "metadata": {},
   "source": [
    "## MERGE DATA"
   ]
  },
  {
   "cell_type": "code",
   "execution_count": null,
   "id": "84dd7266",
   "metadata": {},
   "outputs": [],
   "source": [
    "dataset = pd.merge(left = temp_data2, right = r_dataset, on='customer_ID', how = 'inner')"
   ]
  },
  {
   "cell_type": "code",
   "execution_count": null,
   "id": "0ec079da",
   "metadata": {},
   "outputs": [],
   "source": [
    "dataset.shape"
   ]
  },
  {
   "cell_type": "markdown",
   "id": "42864986",
   "metadata": {},
   "source": [
    "## SHAP"
   ]
  },
  {
   "cell_type": "code",
   "execution_count": null,
   "id": "4b5feb5d",
   "metadata": {},
   "outputs": [],
   "source": [
    "dataset[['P_2', 'B_1', 'B_9', 'D_44', 'D_42', 'B_3', 'S_3', 'D_45', 'D_48', 'D_51', 'R_1', 'B_7', 'D_66', 'R_27', 'D_43', 'B_2', 'B_11','D_50', 'B_38', 'D_132', 'B_4', 'D_41', 'S_23', 'D_62', 'B_39','D_75', 'D_77', 'B_18', 'D_46', 'B_5', 'R_3', 'D_49', 'R_26','D_56', 'CO', 'S_2', 'B_6', 'B_10', 'D_61', 'D_52', 'S_7', 'O','D_55', 'D_112', 'P_3']].describe().transpose()"
   ]
  },
  {
   "cell_type": "markdown",
   "id": "2e910c94",
   "metadata": {},
   "source": [
    "## WRITE DATAFRAME AS A CSV"
   ]
  },
  {
   "cell_type": "code",
   "execution_count": 20,
   "id": "458b288c",
   "metadata": {},
   "outputs": [],
   "source": [
    "dataset.to_csv('devsample', index=False)"
   ]
  }
 ],
 "metadata": {
  "kernelspec": {
   "display_name": "Python 3 (ipykernel)",
   "language": "python",
   "name": "python3"
  },
  "language_info": {
   "codemirror_mode": {
    "name": "ipython",
    "version": 3
   },
   "file_extension": ".py",
   "mimetype": "text/x-python",
   "name": "python",
   "nbconvert_exporter": "python",
   "pygments_lexer": "ipython3",
   "version": "3.9.1"
  }
 },
 "nbformat": 4,
 "nbformat_minor": 5
}
